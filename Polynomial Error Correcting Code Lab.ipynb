{
 "cells": [
  {
   "cell_type": "markdown",
   "metadata": {},
   "source": [
    "# Polynomials and Error-Correcting Code Encryption"
   ]
  },
  {
   "cell_type": "markdown",
   "metadata": {},
   "source": [
    "## Welcome"
   ]
  },
  {
   "cell_type": "markdown",
   "metadata": {
    "collapsed": true
   },
   "source": [
    "## Math Review"
   ]
  },
  {
   "cell_type": "markdown",
   "metadata": {},
   "source": [
    "### I. Number Theory Review"
   ]
  },
  {
   "cell_type": "markdown",
   "metadata": {},
   "source": [
    "### II. Polynomial Review\n",
    "\n",
    "#### a) Definitions\n",
    "\n",
    "Polynomials are one of the fundamental functions in mathematics and naturally they have many uses in various aspects of math and science. For our intents and purposes, we will be considering single variable polynomials with real roots. You may have seen them before in your math class in the form: \n",
    "\n",
    "$$p(x) = a_0x^n + a_1x^{n-1}+\\dots + a_{n}x + a_{n-1}$$\n",
    "\n",
    "Let us go through a few definitions:\n",
    "\n",
    "A number $a$ is defined to be a <b>root</b> of $p(x)$ if and only if $p(a) = 0$\n",
    "\n",
    "For polynomial $p(x) = a_0x^n + a_1x^{n-1}+\\dots + a_{n}x + a_{n-1}$, the <b>degree</b> of $p(x)$ is $n$, also written as $\\deg p = n$\n",
    "\n",
    "The <b> multiplicity </b> of a root is defined to be how many times a specific root divides into a "
   ]
  },
  {
   "cell_type": "code",
   "execution_count": null,
   "metadata": {
    "collapsed": true
   },
   "outputs": [],
   "source": [
    "##graph polynomial in a galois field"
   ]
  },
  {
   "cell_type": "markdown",
   "metadata": {},
   "source": [
    "#### b) Properties of Polynomials\n",
    "\n",
    "There are many properties of polynomials, but only a few specific ones that we will be using. A few facts to know:\n",
    " \n",
    " \n",
    "$$\\boxed{\\text{A polynomial with degree $n$ will have $n$ roots in total}}$$\n",
    "The most useful one for us that we will be using is the Fundamental Theorem of Algebra:\n",
    " \n",
    "$$\\boxed{\\textbf{Fundamental Theorem of Algebra: } p(x) = a(x-r_1)(x-r_2)(x-r_3)\\dots(x-r_n)}$$\n",
    "\n",
    "If we have a set of $n+1$ unique points, we can define a polynomial of degree $n$ "
   ]
  },
  {
   "cell_type": "code",
   "execution_count": 2,
   "metadata": {
    "collapsed": true
   },
   "outputs": [],
   "source": [
    "# demonstration of $n+1$ points defining a degree n polynomial"
   ]
  },
  {
   "cell_type": "markdown",
   "metadata": {},
   "source": [
    "#### c) Polynomial Interpolation"
   ]
  },
  {
   "cell_type": "markdown",
   "metadata": {},
   "source": [
    "This last fact is pretty interesting. So far, we have known what polynomial is based on the coefficients of each term and are able to compute values of p(x). However, given $n+1$ points, we know that we can find a specific polynomial that goes through these points. \n",
    "\n",
    "This process is called <b> interpolation</b>, in which we derive a polynomial function that can go through our set of $n+1$ points. \n",
    "\n",
    "However, how are we supposed to do that? \n",
    "\n",
    "The answer: <b>Lagrange's Interpolation</b>"
   ]
  },
  {
   "cell_type": "markdown",
   "metadata": {},
   "source": [
    "<img src = \"Lagrange.png\">"
   ]
  },
  {
   "cell_type": "markdown",
   "metadata": {},
   "source": [
    "How it works: \n",
    "\n",
    "Suppose we have a list of points: $$(x_1, y_1), (x_2, y_2), \\dots, (x_{n+1}, y_{n+1})$$\n",
    "\n",
    "Let us simplify our problem: How can we find a polynomial that is zero at every other point and equal to $y_i$ for at $x_i$\n",
    "\n",
    "We can easily find a polynomial that is zero for all $x \\neq x_i$, we can just create a polynomial with all roots except $x_i$:\n",
    " \n",
    "$$\\Delta(x) = (x-x_1)\\dots(x-x_{i-1})(x-x_{i+1})\\dots(x-x_{n+1})$$\n",
    "\n",
    "Now, we want $\\Delta(x_i) = y_i$. This is not that difficult to do, we can just scale the value of $(x_i-x_1)\\dots(x_i-x_{i-1})(x_i-x_{i+1})\\dots(x_i-x_{n+1})$ to $y_i$. In more concise notation, we can write:\n",
    "\n",
    "$\\Delta(x) = \\prod_{j \\neq i} (x-x_j)$\n",
    "\n",
    "Our polynomial becomes: \n",
    "\n",
    "$$\\Delta(x) = y_i \\Bigg (\\frac{\\prod_{j \\neq i} (x-x_j)}{\\prod_{j \\neq i} (x_i-x_j)} \\Bigg)$$\n",
    "\n",
    "This polynomial is zero for every value except $x_i$, which is $y_i$. Now what if found polynomials for all the $x_i$'s and added them together? Then we would have a polynomial that passes through all of our points. This is exactly what we are looking for, so we're done! \n",
    "\n",
    "$$\\textbf{Lagrange's Interpolation: for P(x) = $$\n",
    "\n",
    "Now, let's test your understanding:\n",
    "For the following set of points, use Lagrange's Interpolation to calculate coefficients for each set of points:\n",
    "\n",
    "\n",
    "$(1, 0), (2, 3)$\n",
    "\n",
    "$(0, -1), (1, 0), (2, 3)$\n",
    "\n"
   ]
  },
  {
   "cell_type": "code",
   "execution_count": null,
   "metadata": {
    "collapsed": true
   },
   "outputs": [],
   "source": []
  }
 ],
 "metadata": {
  "kernelspec": {
   "display_name": "Python 3",
   "language": "python",
   "name": "python3"
  },
  "language_info": {
   "codemirror_mode": {
    "name": "ipython",
    "version": 3
   },
   "file_extension": ".py",
   "mimetype": "text/x-python",
   "name": "python",
   "nbconvert_exporter": "python",
   "pygments_lexer": "ipython3",
   "version": "3.6.3"
  }
 },
 "nbformat": 4,
 "nbformat_minor": 2
}
