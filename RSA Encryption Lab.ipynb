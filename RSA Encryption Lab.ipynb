{
 "cells": [
  {
   "cell_type": "markdown",
   "metadata": {
    "collapsed": true
   },
   "source": []
  },
  {
   "cell_type": "code",
   "execution_count": 2,
   "metadata": {},
   "outputs": [
    {
     "name": "stdout",
     "output_type": "stream",
     "text": [
      "PASS: 5 mod 3 = 2\n",
      "PASS: 10 mod 5 = 0\n",
      "PASS: 9 mod 9 = 0\n",
      "PASS: -1 mod 4 = 3\n",
      "PASS: -3 mod 3 = 0\n"
     ]
    }
   ],
   "source": [
    "def mod(x, m):\n",
    "    \"\"\"Return the result of x mod m\"\"\"\n",
    "    \n",
    "    # STEP 1: Check if x is too large to be in the range, and decrease it accordingly\n",
    "    # HINT: Consider the idea of 'repeated subtraction'!\n",
    "    \n",
    "    while (x > m - 1): # HKN: this should be removed\n",
    "        x -= m\n",
    "    \n",
    "    # STEP 2: Check if x is too small to be in the range, and increase it accordingly\n",
    "    \n",
    "    while (x < 0): # HKN: this should be removed\n",
    "        x += m\n",
    "    \n",
    "    return x # TODO: change this line to return the right result\n",
    "    # HKN: above line should be 'return 0'\n",
    "\n",
    "def mod_test():\n",
    "    \"\"\"Sanity tests to check your implementation\"\"\"\n",
    "    tests = [(5, 3), (10, 5), (9, 9), (-1, 4), (-3, 3)]\n",
    "    for x, m in tests:\n",
    "        expected = x % m\n",
    "        actual = mod(x, m)\n",
    "        if expected == actual:\n",
    "            print(\"PASS: %d mod %d = %d\" % (x, m, actual))\n",
    "        else:\n",
    "            print(\"FAIL: Expected %d mod %d = %d, but your function returned %d\" % (x, m, expected, actual))\n",
    "mod_test()    "
   ]
  },
  {
   "cell_type": "code",
   "execution_count": 10,
   "metadata": {},
   "outputs": [
    {
     "name": "stdout",
     "output_type": "stream",
     "text": [
      "PASS: 12 ^(-1) mod 35 = 3\n",
      "PASS: No inverse exists for 10 mod 16\n"
     ]
    }
   ],
   "source": [
    "# The below code is provided to you as a black box - you don't have to understand how it works.\n",
    "# (Feel free to read through the code if you're interested!)\n",
    "\n",
    "def inverse(x, m):\n",
    "    d, a, b = ext_euclid(m, x)\n",
    "    if d == 1:\n",
    "        return b\n",
    "    else:\n",
    "        raise ArithmeticError(\"No inverse for %d mod %d exists\" % (x, m))\n",
    "\n",
    "def ext_euclid(x, y):\n",
    "    if y == 0:\n",
    "        return (x, 1, 0)\n",
    "    d, a, b = ext_euclid(y, mod(x, y)) # Check it out - your mod function in action!\n",
    "    return (d, b, a - (x // y) * b)\n",
    "\n",
    "def inverse_tests():\n",
    "    tests = [(12, 35, 3), (10, 16, None)]\n",
    "    for x, m, expected in tests:\n",
    "        if expected == None:\n",
    "            try:\n",
    "                actual = inverse(x, m)\n",
    "            except ArithmeticError:\n",
    "                print(\"PASS: No inverse exists for %d mod %d\" % (x, m))\n",
    "            else:\n",
    "                print(\"FAIL: Expected no inverse for %d mod %d, but your function returned %d\" % (x, m, actual))\n",
    "        else:\n",
    "            try:\n",
    "                actual = inverse(x, m)\n",
    "                if expected == actual:\n",
    "                    print(\"PASS: %d ^(-1) mod %d = %d\" % (x, m, actual))\n",
    "                else:\n",
    "                    print(\"FAIL: Expected %d ^(-1) mod %d = %d, but your function returned %d\" % (x, m, expected, actual))\n",
    "            except ArithmeticError:\n",
    "                print(\"FAIL: Expected %d ^(-1) mod %d = %d, but your function returned no inverse\" % (x, m, expected))\n",
    "\n",
    "inverse_tests()"
   ]
  },
  {
   "cell_type": "code",
   "execution_count": 22,
   "metadata": {},
   "outputs": [
    {
     "data": {
      "image/png": "[encoded data removed]",
      "text/plain": [
       "<Figure size 432x288 with 1 Axes>"
      ]
     },
     "metadata": {},
     "output_type": "display_data"
    }
   ],
   "source": [
    "import matplotlib.pyplot as plt\n",
    "\n",
    "def eval_point_gf(x, slope, y_int, m):\n",
    "    \"\"\"Evaluates the given x on the line specified in slope-intercept form, on GF(m)\"\"\"\n",
    "    \n",
    "    # STEP 1: Calculate the y value given x, slope, and y_int\n",
    "    # Careful - m is NOT the slope!\n",
    "    \n",
    "    # HKN: replace this line with y = 0\n",
    "    y = slope * x + y_int # TODO change this line\n",
    "    \n",
    "    # STEP 2: Convert this value into a valid value in the mod field\n",
    "    \n",
    "    # HKN: replace this line with y = y\n",
    "    y = mod(y, m) # TODO call some function on y...\n",
    "    \n",
    "    return y\n",
    "    \n",
    "# The below function is already completed for you :)\n",
    "def galois_field_demo(m_1, b_1, m_2, b_2, m):\n",
    "    \"\"\"Graph two lines given slope and y-intercept in GF(m)\"\"\"\n",
    "    x_vals = [i for i in range(0, m-1)]\n",
    "    y1_vals = [eval_point_gf(x, m_1, b_1, m) for x in x_vals]\n",
    "    y2_vals = [eval_point_gf(x, m_2, b_2, m) for x in x_vals]\n",
    "    plt.plot(x_vals, y1_vals, 'r+')\n",
    "    plt.plot(x_vals, y2_vals, 'bx')\n",
    "    plt.axis([-1, m, -1, m])\n",
    "    plt.show()\n",
    "    \n",
    "galois_field_demo(2, 3, 3, 2, 5)"
   ]
  },
  {
   "cell_type": "code",
   "execution_count": null,
   "metadata": {},
   "outputs": [],
   "source": []
  }
 ],
 "metadata": {
  "kernelspec": {
   "display_name": "Python 3",
   "language": "python",
   "name": "python3"
  },
  "language_info": {
   "codemirror_mode": {
    "name": "ipython",
    "version": 3
   },
   "file_extension": ".py",
   "mimetype": "text/x-python",
   "name": "python",
   "nbconvert_exporter": "python",
   "pygments_lexer": "ipython3",
   "version": "3.6.2"
  }
 },
 "nbformat": 4,
 "nbformat_minor": 2
}
